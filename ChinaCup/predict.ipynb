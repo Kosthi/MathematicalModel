{
 "cells": [
  {
   "cell_type": "code",
   "execution_count": 102,
   "id": "37e6d907-c162-4c78-a47e-9fd167db243b",
   "metadata": {},
   "outputs": [],
   "source": [
    "import pandas as pd\n",
    "import numpy as np\n",
    "import matplotlib.pyplot as plt\n",
    "from sklearn.neural_network import MLPRegressor\n",
    "from sklearn import preprocessing\n",
    "from mpl_toolkits.mplot3d import Axes3D\n",
    "from sklearn.metrics import r2_score"
   ]
  },
  {
   "cell_type": "code",
   "execution_count": 131,
   "id": "f06c6366-d41c-4f2f-94c7-18bb62aafbaf",
   "metadata": {},
   "outputs": [],
   "source": [
    "df_pol_1 = pd.read_csv('./政治/New_New_ControlofCorruption.csv').sort_values(by='Country Name')\n",
    "df_pol_2 = pd.read_csv('./政治/New_New_PoliticalStability.csv').sort_values(by='Country Name')\n",
    "df_pol_3 = pd.read_csv('./政治/New_New_GovernmentEffectiveness.csv').sort_values(by='Country Name')\n",
    "df_pol_4 = pd.read_csv('./政治/New_New_RegulatoryQuality.csv').sort_values(by='Country Name')\n",
    "df_pol_5 = pd.read_csv('./政治/New_New_RuleofLaw.csv').sort_values(by='Country Name')\n",
    "df_pol_6 = pd.read_csv('./政治/New_New_VoiceandAccountability.csv').sort_values(by='Country Name')\n",
    "df_pol_tar = pd.read_csv('./average_pol.csv')\n",
    "\n",
    "clf = MLPRegressor(alpha=0.01,max_iter=58500)\n",
    "\n",
    "for i in range(2002, 2020):\n",
    "    # data = f'{year}'\n",
    "    df = pd.DataFrame()\n",
    "    labelind = pd.read_csv('./score_sort.csv').keys()[1:-2]\n",
    "    df[labelind[0]] = df_pol_1[labelind[0]]\n",
    "    labeldate = df_pol_1.keys()[2:-1]\n",
    "    y = i - 2002\n",
    "    df[labelind[1]] = df_pol_1[labeldate[y]].values\n",
    "    df[labelind[2]] = df_pol_2[labeldate[y]].values\n",
    "    df[labelind[3]] = df_pol_3[labeldate[y]].values\n",
    "    df[labelind[4]] = df_pol_4[labeldate[y]].values\n",
    "    df[labelind[5]] = df_pol_5[labeldate[y]].values\n",
    "    df[labelind[6]] = df_pol_6[labeldate[y]].values\n",
    "    df['Y'] = df_pol_tar[labeldate[y]].values\n",
    "    # standard\n",
    "    label = df.keys()[1:-1]\n",
    "    minmax_scaler = preprocessing.MinMaxScaler()\n",
    "    data_scaler_2 = minmax_scaler.fit_transform(df[label])\n",
    "    \n",
    "    clf.fit(df[label], df['Y'])\n",
    "#     df[labelind[7]] = df_eco_1[labeldate[y]].values\n",
    "#     df[labelind[8]] = df_eco_2[labeldate[y]].values\n",
    "#     df[labelind[9]] = df_eco_3[labeldate[y]].values\n",
    "#     df[labelind[10]] = df_eco_4[labeldate[y]].values\n",
    "#     df[labelind[11]] = df_eco_5[labeldate[y]].values\n",
    "#     df[labelind[12]] = df_eco_6[labeldate[y]].values\n",
    "\n",
    "#     df[labelind[13]] = df_soc_1[labeldate[y]].values\n",
    "#     df[labelind[14]] = df_soc_2[labeldate[y]].values\n",
    "#     df[labelind[15]] = df_soc_3[labeldate[y]].values\n",
    "#     df[labelind[16]] = df_soc_4[labeldate[y]].values\n",
    "#     df[labelind[17]] = df_soc_5[labeldate[y]].values\n",
    "\n"
   ]
  },
  {
   "cell_type": "code",
   "execution_count": 132,
   "id": "3a124bc8-8340-42bb-9aaa-25d17329febd",
   "metadata": {},
   "outputs": [],
   "source": [
    "# data = f'{year}'\n",
    "df = pd.DataFrame()\n",
    "labelind = pd.read_csv('./score_sort.csv').keys()[1:-2]\n",
    "df[labelind[0]] = df_pol_1[labelind[0]]\n",
    "labeldate = df_pol_1.keys()[2:-1]\n",
    "y = 2020 - 2002\n",
    "df[labelind[1]] = df_pol_1[labeldate[y]].values\n",
    "df[labelind[2]] = df_pol_2[labeldate[y]].values\n",
    "df[labelind[3]] = df_pol_3[labeldate[y]].values\n",
    "df[labelind[4]] = df_pol_4[labeldate[y]].values\n",
    "df[labelind[5]] = df_pol_5[labeldate[y]].values\n",
    "df[labelind[6]] = df_pol_6[labeldate[y]].values\n",
    "df['Y'] = df_pol_tar[labeldate[y]].values\n",
    "# standard\n",
    "label = df.keys()[1:-1]"
   ]
  },
  {
   "cell_type": "code",
   "execution_count": 133,
   "id": "17dcfa4f-47f6-41cf-a12d-0c1f4f93446a",
   "metadata": {},
   "outputs": [
    {
     "data": {
      "text/plain": [
       "0.049424309817515895"
      ]
     },
     "execution_count": 133,
     "metadata": {},
     "output_type": "execute_result"
    }
   ],
   "source": [
    "abs((clf.predict(df[label]) - df['Y'])).mean()"
   ]
  },
  {
   "cell_type": "code",
   "execution_count": null,
   "id": "829a5633-99a4-4fa6-9d11-ffae64abe885",
   "metadata": {},
   "outputs": [],
   "source": []
  }
 ],
 "metadata": {
  "kernelspec": {
   "display_name": "MathVenv",
   "language": "python",
   "name": "venv"
  },
  "language_info": {
   "codemirror_mode": {
    "name": "ipython",
    "version": 3
   },
   "file_extension": ".py",
   "mimetype": "text/x-python",
   "name": "python",
   "nbconvert_exporter": "python",
   "pygments_lexer": "ipython3",
   "version": "3.9.6"
  }
 },
 "nbformat": 4,
 "nbformat_minor": 5
}
