{
 "cells": [
  {
   "cell_type": "code",
   "execution_count": 1,
   "id": "7db33751-ec53-49f4-9f0c-4bb445ec2ed0",
   "metadata": {},
   "outputs": [],
   "source": [
    "import pandas as pd"
   ]
  },
  {
   "cell_type": "code",
   "execution_count": 62,
   "id": "5e6cf6e3-269b-4cbd-ae44-d18c56289a62",
   "metadata": {},
   "outputs": [],
   "source": [
    "df = pd.read_excel('GovernmentEffectiveness.xlsx')"
   ]
  },
  {
   "cell_type": "code",
   "execution_count": 63,
   "id": "8c29d5b0-55b1-42a2-af0b-1d510c242246",
   "metadata": {},
   "outputs": [],
   "source": [
    "tmp = df\n",
    "for i in range(0, 26 * 5 + 6, 6):\n",
    "    key = tmp.keys()[i + 2:i + 7]\n",
    "    df = df.drop(key, axis=1)\n",
    "df = df.drop(0)\n",
    "df = df.drop(df.keys()[1:4], axis=1)"
   ]
  },
  {
   "cell_type": "code",
   "execution_count": 64,
   "id": "7807fd80-54f1-4525-bc1c-457ceb9ea4a5",
   "metadata": {},
   "outputs": [],
   "source": [
    "df.to_csv('GovernmentEffectiveness.csv')"
   ]
  },
  {
   "cell_type": "code",
   "execution_count": 67,
   "id": "36155cd3-2be8-4f43-9b54-f2699be9bc2a",
   "metadata": {},
   "outputs": [],
   "source": [
    "def delete1(str):\n",
    "    tmp = f'{str}.xlsx'\n",
    "    df = pd.read_excel(tmp)\n",
    "    tmp = df\n",
    "    for i in range(0, 26 * 5 + 6, 6):\n",
    "        key = tmp.keys()[i + 2:i + 7]\n",
    "        df = df.drop(key, axis=1)\n",
    "    df = df.drop(0)\n",
    "    df = df.drop(df.keys()[1:4], axis=1)\n",
    "    tmp = f'{str}.csv'\n",
    "    df.to_csv(tmp)"
   ]
  },
  {
   "cell_type": "code",
   "execution_count": 71,
   "id": "4834c8ae-058e-4671-bca5-32bb63e9da3b",
   "metadata": {},
   "outputs": [],
   "source": [
    "str = 'VoiceandAccountability'\n",
    "delete1(str)"
   ]
  },
  {
   "cell_type": "code",
   "execution_count": null,
   "id": "c1a4adef-050f-4eb9-8d67-49071f471743",
   "metadata": {},
   "outputs": [],
   "source": []
  }
 ],
 "metadata": {
  "kernelspec": {
   "display_name": "MathVenv",
   "language": "python",
   "name": "venv"
  },
  "language_info": {
   "codemirror_mode": {
    "name": "ipython",
    "version": 3
   },
   "file_extension": ".py",
   "mimetype": "text/x-python",
   "name": "python",
   "nbconvert_exporter": "python",
   "pygments_lexer": "ipython3",
   "version": "3.9.6"
  }
 },
 "nbformat": 4,
 "nbformat_minor": 5
}
