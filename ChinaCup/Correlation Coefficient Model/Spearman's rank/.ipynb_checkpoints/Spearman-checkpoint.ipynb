{
 "cells": [
  {
   "cell_type": "code",
   "execution_count": 8,
   "id": "5c28b97c",
   "metadata": {},
   "outputs": [
    {
     "data": {
      "text/html": [
       "<div>\n",
       "<style scoped>\n",
       "    .dataframe tbody tr th:only-of-type {\n",
       "        vertical-align: middle;\n",
       "    }\n",
       "\n",
       "    .dataframe tbody tr th {\n",
       "        vertical-align: top;\n",
       "    }\n",
       "\n",
       "    .dataframe thead th {\n",
       "        text-align: right;\n",
       "    }\n",
       "</style>\n",
       "<table border=\"1\" class=\"dataframe\">\n",
       "  <thead>\n",
       "    <tr style=\"text-align: right;\">\n",
       "      <th></th>\n",
       "      <th>身高</th>\n",
       "      <th>体重</th>\n",
       "      <th>肺活量</th>\n",
       "      <th>50米跑</th>\n",
       "      <th>立定跳远</th>\n",
       "      <th>坐位体前屈</th>\n",
       "    </tr>\n",
       "  </thead>\n",
       "  <tbody>\n",
       "    <tr>\n",
       "      <th>count</th>\n",
       "      <td>591.000000</td>\n",
       "      <td>591.000000</td>\n",
       "      <td>591.000000</td>\n",
       "      <td>591.000000</td>\n",
       "      <td>591.000000</td>\n",
       "      <td>591.000000</td>\n",
       "    </tr>\n",
       "    <tr>\n",
       "      <th>mean</th>\n",
       "      <td>156.003384</td>\n",
       "      <td>46.783418</td>\n",
       "      <td>2333.233503</td>\n",
       "      <td>10.792014</td>\n",
       "      <td>166.825719</td>\n",
       "      <td>9.496616</td>\n",
       "    </tr>\n",
       "    <tr>\n",
       "      <th>std</th>\n",
       "      <td>7.389410</td>\n",
       "      <td>5.031473</td>\n",
       "      <td>350.436154</td>\n",
       "      <td>1.310873</td>\n",
       "      <td>16.813587</td>\n",
       "      <td>2.938186</td>\n",
       "    </tr>\n",
       "    <tr>\n",
       "      <th>min</th>\n",
       "      <td>135.000000</td>\n",
       "      <td>16.000000</td>\n",
       "      <td>1450.000000</td>\n",
       "      <td>7.800000</td>\n",
       "      <td>52.000000</td>\n",
       "      <td>0.500000</td>\n",
       "    </tr>\n",
       "    <tr>\n",
       "      <th>25%</th>\n",
       "      <td>151.000000</td>\n",
       "      <td>44.000000</td>\n",
       "      <td>2109.000000</td>\n",
       "      <td>9.800000</td>\n",
       "      <td>156.000000</td>\n",
       "      <td>7.800000</td>\n",
       "    </tr>\n",
       "    <tr>\n",
       "      <th>50%</th>\n",
       "      <td>157.000000</td>\n",
       "      <td>47.000000</td>\n",
       "      <td>2391.000000</td>\n",
       "      <td>10.700000</td>\n",
       "      <td>167.000000</td>\n",
       "      <td>9.600000</td>\n",
       "    </tr>\n",
       "    <tr>\n",
       "      <th>75%</th>\n",
       "      <td>161.000000</td>\n",
       "      <td>50.000000</td>\n",
       "      <td>2570.000000</td>\n",
       "      <td>11.500000</td>\n",
       "      <td>178.000000</td>\n",
       "      <td>11.600000</td>\n",
       "    </tr>\n",
       "    <tr>\n",
       "      <th>max</th>\n",
       "      <td>171.000000</td>\n",
       "      <td>65.000000</td>\n",
       "      <td>3272.000000</td>\n",
       "      <td>15.000000</td>\n",
       "      <td>205.000000</td>\n",
       "      <td>17.500000</td>\n",
       "    </tr>\n",
       "  </tbody>\n",
       "</table>\n",
       "</div>"
      ],
      "text/plain": [
       "               身高          体重          肺活量        50米跑        立定跳远       坐位体前屈\n",
       "count  591.000000  591.000000   591.000000  591.000000  591.000000  591.000000\n",
       "mean   156.003384   46.783418  2333.233503   10.792014  166.825719    9.496616\n",
       "std      7.389410    5.031473   350.436154    1.310873   16.813587    2.938186\n",
       "min    135.000000   16.000000  1450.000000    7.800000   52.000000    0.500000\n",
       "25%    151.000000   44.000000  2109.000000    9.800000  156.000000    7.800000\n",
       "50%    157.000000   47.000000  2391.000000   10.700000  167.000000    9.600000\n",
       "75%    161.000000   50.000000  2570.000000   11.500000  178.000000   11.600000\n",
       "max    171.000000   65.000000  3272.000000   15.000000  205.000000   17.500000"
      ]
     },
     "execution_count": 8,
     "metadata": {},
     "output_type": "execute_result"
    }
   ],
   "source": [
    "import pandas as pd\n",
    "import numpy as np\n",
    "\n",
    "# SPSS 描述性统计\n",
    "df = pd.read_excel('../八年级女生体测数据.xlsx')\n",
    "df.describe()"
   ]
  },
  {
   "cell_type": "code",
   "execution_count": 10,
   "id": "fd46b0b3",
   "metadata": {},
   "outputs": [
    {
     "data": {
      "text/html": [
       "<div>\n",
       "<style scoped>\n",
       "    .dataframe tbody tr th:only-of-type {\n",
       "        vertical-align: middle;\n",
       "    }\n",
       "\n",
       "    .dataframe tbody tr th {\n",
       "        vertical-align: top;\n",
       "    }\n",
       "\n",
       "    .dataframe thead th {\n",
       "        text-align: right;\n",
       "    }\n",
       "</style>\n",
       "<table border=\"1\" class=\"dataframe\">\n",
       "  <thead>\n",
       "    <tr style=\"text-align: right;\">\n",
       "      <th></th>\n",
       "      <th>身高</th>\n",
       "      <th>体重</th>\n",
       "      <th>肺活量</th>\n",
       "      <th>50米跑</th>\n",
       "      <th>立定跳远</th>\n",
       "      <th>坐位体前屈</th>\n",
       "    </tr>\n",
       "  </thead>\n",
       "  <tbody>\n",
       "    <tr>\n",
       "      <th>身高</th>\n",
       "      <td>1.000000</td>\n",
       "      <td>0.030134</td>\n",
       "      <td>-0.243004</td>\n",
       "      <td>-0.199045</td>\n",
       "      <td>0.062436</td>\n",
       "      <td>0.109855</td>\n",
       "    </tr>\n",
       "    <tr>\n",
       "      <th>体重</th>\n",
       "      <td>0.030134</td>\n",
       "      <td>1.000000</td>\n",
       "      <td>0.130468</td>\n",
       "      <td>0.089845</td>\n",
       "      <td>0.021638</td>\n",
       "      <td>-0.048798</td>\n",
       "    </tr>\n",
       "    <tr>\n",
       "      <th>肺活量</th>\n",
       "      <td>-0.243004</td>\n",
       "      <td>0.130468</td>\n",
       "      <td>1.000000</td>\n",
       "      <td>0.262607</td>\n",
       "      <td>0.021946</td>\n",
       "      <td>-0.080075</td>\n",
       "    </tr>\n",
       "    <tr>\n",
       "      <th>50米跑</th>\n",
       "      <td>-0.199045</td>\n",
       "      <td>0.089845</td>\n",
       "      <td>0.262607</td>\n",
       "      <td>1.000000</td>\n",
       "      <td>-0.090988</td>\n",
       "      <td>-0.002918</td>\n",
       "    </tr>\n",
       "    <tr>\n",
       "      <th>立定跳远</th>\n",
       "      <td>0.062436</td>\n",
       "      <td>0.021638</td>\n",
       "      <td>0.021946</td>\n",
       "      <td>-0.090988</td>\n",
       "      <td>1.000000</td>\n",
       "      <td>-0.039892</td>\n",
       "    </tr>\n",
       "    <tr>\n",
       "      <th>坐位体前屈</th>\n",
       "      <td>0.109855</td>\n",
       "      <td>-0.048798</td>\n",
       "      <td>-0.080075</td>\n",
       "      <td>-0.002918</td>\n",
       "      <td>-0.039892</td>\n",
       "      <td>1.000000</td>\n",
       "    </tr>\n",
       "  </tbody>\n",
       "</table>\n",
       "</div>"
      ],
      "text/plain": [
       "             身高        体重       肺活量      50米跑      立定跳远     坐位体前屈\n",
       "身高     1.000000  0.030134 -0.243004 -0.199045  0.062436  0.109855\n",
       "体重     0.030134  1.000000  0.130468  0.089845  0.021638 -0.048798\n",
       "肺活量   -0.243004  0.130468  1.000000  0.262607  0.021946 -0.080075\n",
       "50米跑  -0.199045  0.089845  0.262607  1.000000 -0.090988 -0.002918\n",
       "立定跳远   0.062436  0.021638  0.021946 -0.090988  1.000000 -0.039892\n",
       "坐位体前屈  0.109855 -0.048798 -0.080075 -0.002918 -0.039892  1.000000"
      ]
     },
     "execution_count": 10,
     "metadata": {},
     "output_type": "execute_result"
    }
   ],
   "source": [
    "corr = df.corr('spearman')\n",
    "corr"
   ]
  },
  {
   "cell_type": "code",
   "execution_count": 11,
   "id": "863e6c36",
   "metadata": {},
   "outputs": [
    {
     "data": {
      "text/plain": [
       "<AxesSubplot: >"
      ]
     },
     "execution_count": 11,
     "metadata": {},
     "output_type": "execute_result"
    },
    {
     "data": {
      "image/png": "[encoded data removed]",
      "text/plain": [
       "<Figure size 640x480 with 2 Axes>"
      ]
     },
     "metadata": {},
     "output_type": "display_data"
    }
   ],
   "source": [
    "import seaborn as sns\n",
    "sns.heatmap(corr, annot=True)"
   ]
  },
  {
   "cell_type": "code",
   "execution_count": 15,
   "id": "074900d2",
   "metadata": {},
   "outputs": [
    {
     "data": {
      "text/plain": [
       "(array([[ 1.        ,  0.03013437, -0.24300425, -0.19904512,  0.06243552,\n",
       "          0.10985477],\n",
       "        [ 0.03013437,  1.        ,  0.13046828,  0.08984496,  0.02163842,\n",
       "         -0.04879838],\n",
       "        [-0.24300425,  0.13046828,  1.        ,  0.2626065 ,  0.02194552,\n",
       "         -0.08007489],\n",
       "        [-0.19904512,  0.08984496,  0.2626065 ,  1.        , -0.09098754,\n",
       "         -0.00291799],\n",
       "        [ 0.06243552,  0.02163842,  0.02194552, -0.09098754,  1.        ,\n",
       "         -0.03989237],\n",
       "        [ 0.10985477, -0.04879838, -0.08007489, -0.00291799, -0.03989237,\n",
       "          1.        ]]),\n",
       " array([[ True, False,  True,  True, False,  True],\n",
       "        [False,  True,  True,  True, False, False],\n",
       "        [ True,  True,  True,  True, False, False],\n",
       "        [ True,  True,  True,  True,  True, False],\n",
       "        [False, False, False,  True,  True, False],\n",
       "        [ True, False, False, False, False,  True]]))"
      ]
     },
     "execution_count": 15,
     "metadata": {},
     "output_type": "execute_result"
    }
   ],
   "source": [
    "import scipy.stats as sta\n",
    "# SPSS 斯皮尔曼检验\n",
    "statistic, pvalue = sta.spearmanr(df, axis = 0)\n",
    "statistic, pvalue < 0.05"
   ]
  },
  {
   "cell_type": "code",
   "execution_count": null,
   "id": "4e082550",
   "metadata": {},
   "outputs": [],
   "source": []
  }
 ],
 "metadata": {
  "kernelspec": {
   "display_name": "Python 3 (ipykernel)",
   "language": "python",
   "name": "python3"
  },
  "language_info": {
   "codemirror_mode": {
    "name": "ipython",
    "version": 3
   },
   "file_extension": ".py",
   "mimetype": "text/x-python",
   "name": "python",
   "nbconvert_exporter": "python",
   "pygments_lexer": "ipython3",
   "version": "3.9.6"
  }
 },
 "nbformat": 4,
 "nbformat_minor": 5
}
