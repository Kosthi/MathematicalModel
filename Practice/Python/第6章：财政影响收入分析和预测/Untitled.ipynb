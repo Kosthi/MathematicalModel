{
 "cells": [
  {
   "cell_type": "code",
   "execution_count": 5,
   "id": "7a9b0f2c-ddd2-454f-b80b-bef1c7581d96",
   "metadata": {},
   "outputs": [],
   "source": [
    "import pandas as pd\n",
    "import numpy as np\n",
    "import matplotlib.pyplot as plt\n",
    "import random"
   ]
  },
  {
   "cell_type": "code",
   "execution_count": 6,
   "id": "9050d2b9-6887-49c2-bb7b-919db2da6efa",
   "metadata": {},
   "outputs": [],
   "source": [
    "def sampleGeneartor():\n",
    "    X = np.arange(0, 5, 0.01)\n",
    "    Y = X**3 - 4*X**2 + 1*X - 3\n",
    "    e = np.random.normal(0, 2, 500)\n",
    "    Y = Y + e\n",
    "    plt.scatter(X, Y, 0.5)\n",
    "    return X, Y"
   ]
  },
  {
   "cell_type": "code",
   "execution_count": 7,
   "id": "7f13e7bb-9b5d-435d-afb4-aa16195e879a",
   "metadata": {},
   "outputs": [],
   "source": [
    "class woa():\n",
    "    #初始化\n",
    "    def __init__(self, X_train, Y_train, LB=np.array([-5, -5, -5, -5]),\\\n",
    "                 UB=np.array([5, 5, 5, 5]), dim=4, b=1, whale_num=20, max_iter=500):\n",
    "        self.X_train = X_train\n",
    "        self.Y_train = Y_train\n",
    "        self.LB = LB\n",
    "        self.UB = UB\n",
    "        self.dim = dim\n",
    "        self.whale_num = whale_num\n",
    "        self.max_iter = max_iter\n",
    "        self.b = b\n",
    "        #Initialize the locations of whale\n",
    "        self.X = np.random.uniform(0, 1, (whale_num, dim))*(UB - LB) + LB\n",
    "        self.gBest_score = np.inf\n",
    "        self.gBest_curve = np.zeros(max_iter)\n",
    "        self.gBest_X = np.zeros(dim) \n",
    "    \n",
    "    #适应度函数  \n",
    "    def fitFunc(self, input):\n",
    "        a = input[0]; b = input[1]; c = input[2]; d = input[3]\n",
    "        Y_Hat = a*self.X_train**3 + b*self.X_train**2 + c*self.X_train + d \n",
    "        fitFunc = np.sum((Y_Hat - self.Y_train)**2)/np.shape(Y_Hat)[0]\n",
    "        return fitFunc\n",
    "    \n",
    "    def rand_whale(self):\n",
    "        \"\"\"随机选择鲸鱼\"\"\"\n",
    "        #while True:\n",
    "        rand_index = random.randrange(0, self.whale_num)\n",
    "        # print(rand_index)\n",
    "            #if self.parm[rand_index, :].all() != self.gBest_parm.all() or self.gBest_parm.mean != 0:\n",
    "                #break;\n",
    "        return rand_index\n",
    "    \n",
    "    #优化模块  \n",
    "    def optimize(self):\n",
    "        \"\"\"优化函数\"\"\"\n",
    "        t = 0\n",
    "        while t < self.max_iter:\n",
    "            for i in range(self.whale_num):\n",
    "                # 矫正边界\n",
    "                self.X[i, :] = np.clip(self.X[i, :], self.LB, self.UB)\n",
    "                fitness = self.fitFunc(self.X[i, :])\n",
    "                # 更新 gBest_score and gBest_X\n",
    "                if fitness < self.gBest_score:\n",
    "                    self.gBest_score = fitness\n",
    "                    self.gBest_X = self.X[i, :].copy()\n",
    "            \n",
    "            # 优化前 a = 2 * (self.max_iter - t)/self.max_iter\n",
    "            # 余弦变化非线性控制因子\n",
    "            a = 2  *  np.cos(np.pi  *  t / (2  *  self.max_iter))\n",
    "            # 更新所有鲸鱼位置\n",
    "            for i in range(self.whale_num):\n",
    "                p = np.random.uniform()\n",
    "                R1 = np.random.uniform()\n",
    "                R2 = np.random.uniform()\n",
    "                l = 2 * np.random.uniform() - 1\n",
    "                # 参数向量\n",
    "                A = 2 * a * R1 - a\n",
    "                C = 2 * R2\n",
    "                # 自适应权重因子w对数优化\n",
    "                w = 1 - np.log(1 + (np.e - 1)  *  t / self.max_iter)\n",
    "                if p >= 0.5:\n",
    "                    #print(1)\n",
    "                    # 螺旋泡泡攻击\n",
    "                    D = abs(C * self.gBest_X - self.X[i, :])\n",
    "                    self.X[i, :] = w  *  D * np.exp(self.b * l) * np.cos(2 * np.pi * l) + self.gBest_X\n",
    "                else:\n",
    "\n",
    "                    #搜索目标猎物\n",
    "                    if abs(A) < 1:\n",
    "                        #print(2)\n",
    "                        # 以最优鲸鱼为目标，局部搜索\n",
    "                        D = abs(self.gBest_X - self.X[i, :])\n",
    "                        self.X[i, :] = self.gBest_X - w * A * D\n",
    "                    else:\n",
    "                        #print(3)\n",
    "                        # 以随机鲸鱼为目标，全局搜索\n",
    "                        rand_index = self.rand_whale()\n",
    "                        parm_rand = self.X[rand_index, :]\n",
    "                        D = abs(C * parm_rand - self.X[i, :])\n",
    "                        self.X[i, :] = parm_rand - w * A * D\n",
    "                # 随机差分变异优化 避免局部最优\n",
    "                #print(4)\n",
    "                rand_index = self.rand_whale()\n",
    "                parm_rand = self.X[rand_index, :]\n",
    "                self.X[i, :] = p * (self.gBest_X - self.X[i, :]) + p * (parm_rand - self.X[i, :])\n",
    "            # 记录每个函数值（最小型）\n",
    "            self.gBest_curve[t] = self.gBest_score       \n",
    "            if (t % 100 == 0):\n",
    "                print('At iteration: ' + str(t))  \n",
    "            t += 1\n",
    "        return self.gBest_curve, self.gBest_X"
   ]
  },
  {
   "cell_type": "code",
   "execution_count": 8,
   "id": "89d1f649-2a47-43c4-8de1-38e9fde0ad8c",
   "metadata": {},
   "outputs": [
    {
     "name": "stdout",
     "output_type": "stream",
     "text": [
      "At iteration: 0\n",
      "At iteration: 100\n",
      "At iteration: 200\n",
      "At iteration: 300\n",
      "At iteration: 400\n",
      "At iteration: 500\n",
      "At iteration: 600\n",
      "At iteration: 700\n",
      "At iteration: 800\n",
      "At iteration: 900\n",
      "At iteration: 1000\n",
      "At iteration: 1100\n",
      "At iteration: 1200\n",
      "At iteration: 1300\n",
      "At iteration: 1400\n",
      "At iteration: 1500\n",
      "At iteration: 1600\n",
      "At iteration: 1700\n",
      "At iteration: 1800\n",
      "At iteration: 1900\n"
     ]
    },
    {
     "data": {
      "image/png": "[encoded data removed]",
      "text/plain": [
       "<Figure size 640x480 with 1 Axes>"
      ]
     },
     "metadata": {},
     "output_type": "display_data"
    },
    {
     "data": {
      "image/png": "[encoded data removed]",
      "text/plain": [
       "<Figure size 640x480 with 1 Axes>"
      ]
     },
     "metadata": {},
     "output_type": "display_data"
    }
   ],
   "source": [
    "X, Y = sampleGeneartor()\n",
    "fitnessCurve, para = woa(X, Y, dim=4, whale_num=60, max_iter=2000).optimize()\n",
    "yPre = para[0]*X**3 + para[1]*X**2 + para[2]*X + para[3] \n",
    "plt.scatter(X, yPre, 0.5)\n",
    "\n",
    "plt.figure()\n",
    "plt.plot(fitnessCurve, linewidth='0.5')\n",
    "plt.show()"
   ]
  },
  {
   "cell_type": "code",
   "execution_count": null,
   "id": "11740185-ce78-4029-9f03-7b33cea8ed7f",
   "metadata": {},
   "outputs": [],
   "source": []
  },
  {
   "cell_type": "code",
   "execution_count": 9,
   "id": "4205c60b-3cad-4106-9895-556b828ca89c",
   "metadata": {},
   "outputs": [
    {
     "data": {
      "text/plain": [
       "array([ 0.77910996, -2.40666508, -2.00332733, -2.2419595 ])"
      ]
     },
     "execution_count": 9,
     "metadata": {},
     "output_type": "execute_result"
    }
   ],
   "source": [
    "para"
   ]
  },
  {
   "cell_type": "code",
   "execution_count": null,
   "id": "9f9a7733-4d33-407c-b099-82fd01c4c34a",
   "metadata": {},
   "outputs": [],
   "source": []
  }
 ],
 "metadata": {
  "kernelspec": {
   "display_name": "MathVenv",
   "language": "python",
   "name": "venv"
  },
  "language_info": {
   "codemirror_mode": {
    "name": "ipython",
    "version": 3
   },
   "file_extension": ".py",
   "mimetype": "text/x-python",
   "name": "python",
   "nbconvert_exporter": "python",
   "pygments_lexer": "ipython3",
   "version": "3.9.6"
  }
 },
 "nbformat": 4,
 "nbformat_minor": 5
}
