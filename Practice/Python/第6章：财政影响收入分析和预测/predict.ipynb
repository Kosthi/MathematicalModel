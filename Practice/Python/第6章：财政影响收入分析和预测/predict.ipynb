{
 "cells": [
  {
   "cell_type": "code",
   "execution_count": 1,
   "id": "65aa53f3-9c01-460e-93b8-4404da601f39",
   "metadata": {},
   "outputs": [],
   "source": [
    "import pandas as pd\n",
    "import numpy as np\n",
    "from GM11 import GM11"
   ]
  },
  {
   "cell_type": "code",
   "execution_count": 2,
   "id": "2e5b0d72-d5fb-4e81-ba3e-adf509d34297",
   "metadata": {},
   "outputs": [
    {
     "name": "stderr",
     "output_type": "stream",
     "text": [
      "/var/folders/x0/_fyb4bw1227f047cqg5wjm5w0000gn/T/ipykernel_9359/1109474087.py:6: FutureWarning: The default dtype for empty Series will be 'object' instead of 'float64' in a future version. Specify a dtype explicitly to silence this warning.\n",
      "  new_reg_data.loc[2014] = None\n",
      "/var/folders/x0/_fyb4bw1227f047cqg5wjm5w0000gn/T/ipykernel_9359/1109474087.py:7: FutureWarning: The default dtype for empty Series will be 'object' instead of 'float64' in a future version. Specify a dtype explicitly to silence this warning.\n",
      "  new_reg_data.loc[2015] = None\n"
     ]
    }
   ],
   "source": [
    "inputfile1 = './new_reg_data.csv'\n",
    "inputfile2 = './data.csv'\n",
    "new_reg_data = pd.read_csv(inputfile1, index_col=0)\n",
    "data = pd.read_csv(inputfile2, index_col=0)\n",
    "new_reg_data.index = range(1994, 2014)\n",
    "new_reg_data.loc[2014] = None\n",
    "new_reg_data.loc[2015] = None"
   ]
  },
  {
   "cell_type": "code",
   "execution_count": 3,
   "id": "0355248e-b300-43c8-affd-568221652c64",
   "metadata": {},
   "outputs": [],
   "source": [
    "cols = new_reg_data.keys()\n",
    "for col in cols:\n",
    "    f = GM11(new_reg_data.loc[range(1994, 2014), col].values)[0]\n",
    "    new_reg_data.loc[2014, col] = f(len(new_reg_data)-1)\n",
    "    new_reg_data.loc[2015, col] = f(len(new_reg_data))\n",
    "    new_reg_data[col] = new_reg_data[col].round(2)"
   ]
  },
  {
   "cell_type": "code",
   "execution_count": 4,
   "id": "3c0b2609-7a50-4715-9968-cffa634bb572",
   "metadata": {},
   "outputs": [
    {
     "name": "stdout",
     "output_type": "stream",
     "text": [
      "预测结果为:\n",
      "               x1       x3        x4        x5          x6       x7        x8  \\\n",
      "2014  8142148.24  7042.31  43611.84  35046.63  8505522.58  4600.40  18686.28   \n",
      "2015  8460489.28  8166.92  47792.22  38384.22  8627139.31  5214.78  21474.47   \n",
      "\n",
      "           x13   y  \n",
      "2014  44506.47 NaN  \n",
      "2015  49945.88 NaN  \n"
     ]
    }
   ],
   "source": [
    "outputfile = 'predict_GM11.csv'\n",
    "y = list(data['y'].values)\n",
    "y.extend((np.nan, np.nan))\n",
    "new_reg_data['y'] = y\n",
    "new_reg_data.to_csv(outputfile)\n",
    "print('预测结果为:\\n', new_reg_data.loc[2014:2015, :])"
   ]
  },
  {
   "cell_type": "code",
   "execution_count": 5,
   "id": "91631665-c6da-4957-8419-28e3335e149a",
   "metadata": {},
   "outputs": [],
   "source": [
    "import matplotlib.pyplot as plt\n",
    "from sklearn.svm import LinearSVR"
   ]
  },
  {
   "cell_type": "code",
   "execution_count": 41,
   "id": "aa35bb11-c9d9-466d-995e-a6f226058e17",
   "metadata": {},
   "outputs": [
    {
     "name": "stderr",
     "output_type": "stream",
     "text": [
      "/Users/koschei/Project/MathModel/venv/lib/python3.9/site-packages/numpy/core/fromnumeric.py:3462: FutureWarning: In a future version, DataFrame.mean(axis=None) will return a scalar mean over the entire DataFrame. To retain the old behavior, use 'frame.mean(axis=0)' or just 'frame.mean()'\n",
      "  return mean(axis=axis, dtype=dtype, out=out, **kwargs)\n"
     ]
    }
   ],
   "source": [
    "def standard(data):\n",
    "    return (data - np.mean(data)) / np.std(data)\n",
    "inputfile = './predict_GM11.csv'\n",
    "data = pd.read_csv(inputfile, index_col=0)\n",
    "feature = data.keys()[:-1]\n",
    "data_train = data.loc[1994:2014].copy()\n",
    "data_train = standard(data_train)\n",
    "x_train = data_train[feature].values[:-1]\n",
    "y_train = data_train['y'].values[:-1]"
   ]
  },
  {
   "cell_type": "code",
   "execution_count": 42,
   "id": "da49c32c-641d-4382-bb8e-1baa6b8a80d7",
   "metadata": {},
   "outputs": [
    {
     "data": {
      "text/plain": [
       "20"
      ]
     },
     "execution_count": 42,
     "metadata": {},
     "output_type": "execute_result"
    }
   ],
   "source": [
    "len(x_train)"
   ]
  },
  {
   "cell_type": "code",
   "execution_count": 43,
   "id": "532ae220-28d3-4d45-9d14-840dea42bb14",
   "metadata": {},
   "outputs": [
    {
     "name": "stderr",
     "output_type": "stream",
     "text": [
      "/Users/koschei/Project/MathModel/venv/lib/python3.9/site-packages/sklearn/svm/_base.py:1244: ConvergenceWarning: Liblinear failed to converge, increase the number of iterations.\n",
      "  warnings.warn(\n",
      "/Users/koschei/Project/MathModel/venv/lib/python3.9/site-packages/numpy/core/fromnumeric.py:3462: FutureWarning: In a future version, DataFrame.mean(axis=None) will return a scalar mean over the entire DataFrame. To retain the old behavior, use 'frame.mean(axis=0)' or just 'frame.mean()'\n",
      "  return mean(axis=axis, dtype=dtype, out=out, **kwargs)\n"
     ]
    }
   ],
   "source": [
    "linearSVR = LinearSVR()\n",
    "linearSVR.fit(x_train, y_train)\n",
    "x = standard(data[feature]).values\n",
    "data[u'y_pred'] = linearSVR.predict(x) * np.std(data['y']) + np.mean(data['y'])\n",
    "outfile = 'predict_SVR_GM11.csv'\n",
    "data.to_csv(outfile)"
   ]
  },
  {
   "cell_type": "code",
   "execution_count": 44,
   "id": "8a9a9d66-1c00-47d4-9574-30ef50085968",
   "metadata": {},
   "outputs": [
    {
     "name": "stdout",
     "output_type": "stream",
     "text": [
      "真实值与预测值分别为:\n",
      "             y       y_pred\n",
      "1994    64.87    44.541361\n",
      "1995    99.75    87.181272\n",
      "1996    88.11    98.249570\n",
      "1997   106.07   106.065292\n",
      "1998   137.32   143.083068\n",
      "1999   188.14   174.039746\n",
      "2000   219.91   200.671782\n",
      "2001   271.91   210.705674\n",
      "2002   269.10   199.308660\n",
      "2003   300.55   269.856122\n",
      "2004   338.45   343.213708\n",
      "2005   408.86   412.295102\n",
      "2006   476.72   491.787669\n",
      "2007   838.99   614.253528\n",
      "2008   843.14   748.853568\n",
      "2009  1107.67   958.442677\n",
      "2010  1399.16  1215.803449\n",
      "2011  1535.14  1364.057597\n",
      "2012  1579.68  1549.014761\n",
      "2013  2088.14  1854.824220\n",
      "2014      NaN  1939.594615\n",
      "2015      NaN  2251.104307\n"
     ]
    },
    {
     "data": {
      "image/png": "[encoded data removed]",
      "text/plain": [
       "<Figure size 640x480 with 2 Axes>"
      ]
     },
     "metadata": {},
     "output_type": "display_data"
    }
   ],
   "source": [
    "print('真实值与预测值分别为:\\n', data[['y', 'y_pred']])\n",
    "fig = data[['y', 'y_pred']].plot(subplots=True, style=['b-o', 'r-*'])\n",
    "plt.show()"
   ]
  },
  {
   "cell_type": "code",
   "execution_count": null,
   "id": "760a50fe-b37e-43e6-b44d-0411e0531269",
   "metadata": {},
   "outputs": [],
   "source": []
  }
 ],
 "metadata": {
  "kernelspec": {
   "display_name": "MathVenv",
   "language": "python",
   "name": "venv"
  },
  "language_info": {
   "codemirror_mode": {
    "name": "ipython",
    "version": 3
   },
   "file_extension": ".py",
   "mimetype": "text/x-python",
   "name": "python",
   "nbconvert_exporter": "python",
   "pygments_lexer": "ipython3",
   "version": "3.9.6"
  }
 },
 "nbformat": 4,
 "nbformat_minor": 5
}
