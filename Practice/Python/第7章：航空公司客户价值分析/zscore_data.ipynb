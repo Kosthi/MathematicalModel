{
 "cells": [
  {
   "cell_type": "code",
   "execution_count": 18,
   "id": "6eb7e76a-a549-4574-b902-e9e46ce02380",
   "metadata": {},
   "outputs": [],
   "source": [
    "import pandas as pd\n",
    "import numpy as np\n",
    "from sklearn.preprocessing import StandardScaler"
   ]
  },
  {
   "cell_type": "code",
   "execution_count": 3,
   "id": "d4e278ae-8b6d-4558-a36a-5e4bbec0b8ef",
   "metadata": {},
   "outputs": [
    {
     "data": {
      "text/html": [
       "<div>\n",
       "<style scoped>\n",
       "    .dataframe tbody tr th:only-of-type {\n",
       "        vertical-align: middle;\n",
       "    }\n",
       "\n",
       "    .dataframe tbody tr th {\n",
       "        vertical-align: top;\n",
       "    }\n",
       "\n",
       "    .dataframe thead th {\n",
       "        text-align: right;\n",
       "    }\n",
       "</style>\n",
       "<table border=\"1\" class=\"dataframe\">\n",
       "  <thead>\n",
       "    <tr style=\"text-align: right;\">\n",
       "      <th></th>\n",
       "      <th>FFP_DATE</th>\n",
       "      <th>LOAD_TIME</th>\n",
       "      <th>LAST_TO_END</th>\n",
       "      <th>FLIGHT_COUNT</th>\n",
       "      <th>SEG_KM_SUM</th>\n",
       "      <th>avg_discount</th>\n",
       "    </tr>\n",
       "  </thead>\n",
       "  <tbody>\n",
       "    <tr>\n",
       "      <th>0</th>\n",
       "      <td>2006/11/2</td>\n",
       "      <td>2014/3/31</td>\n",
       "      <td>1</td>\n",
       "      <td>210</td>\n",
       "      <td>580717</td>\n",
       "      <td>0.961639</td>\n",
       "    </tr>\n",
       "    <tr>\n",
       "      <th>1</th>\n",
       "      <td>2007/2/19</td>\n",
       "      <td>2014/3/31</td>\n",
       "      <td>7</td>\n",
       "      <td>140</td>\n",
       "      <td>293678</td>\n",
       "      <td>1.252314</td>\n",
       "    </tr>\n",
       "    <tr>\n",
       "      <th>2</th>\n",
       "      <td>2007/2/1</td>\n",
       "      <td>2014/3/31</td>\n",
       "      <td>11</td>\n",
       "      <td>135</td>\n",
       "      <td>283712</td>\n",
       "      <td>1.254676</td>\n",
       "    </tr>\n",
       "    <tr>\n",
       "      <th>3</th>\n",
       "      <td>2008/8/22</td>\n",
       "      <td>2014/3/31</td>\n",
       "      <td>97</td>\n",
       "      <td>23</td>\n",
       "      <td>281336</td>\n",
       "      <td>1.090870</td>\n",
       "    </tr>\n",
       "    <tr>\n",
       "      <th>4</th>\n",
       "      <td>2009/4/10</td>\n",
       "      <td>2014/3/31</td>\n",
       "      <td>5</td>\n",
       "      <td>152</td>\n",
       "      <td>309928</td>\n",
       "      <td>0.970658</td>\n",
       "    </tr>\n",
       "  </tbody>\n",
       "</table>\n",
       "</div>"
      ],
      "text/plain": [
       "    FFP_DATE  LOAD_TIME  LAST_TO_END  FLIGHT_COUNT  SEG_KM_SUM  avg_discount\n",
       "0  2006/11/2  2014/3/31            1           210      580717      0.961639\n",
       "1  2007/2/19  2014/3/31            7           140      293678      1.252314\n",
       "2   2007/2/1  2014/3/31           11           135      283712      1.254676\n",
       "3  2008/8/22  2014/3/31           97            23      281336      1.090870\n",
       "4  2009/4/10  2014/3/31            5           152      309928      0.970658"
      ]
     },
     "execution_count": 3,
     "metadata": {},
     "output_type": "execute_result"
    }
   ],
   "source": [
    "airline = pd.read_csv('./data_cleaned.csv')\n",
    "airline_selection = airline[['FFP_DATE', 'LOAD_TIME', 'LAST_TO_END', 'FLIGHT_COUNT', 'SEG_KM_SUM', 'avg_discount']]\n",
    "airline_selection.head()"
   ]
  },
  {
   "cell_type": "code",
   "execution_count": 49,
   "id": "d8bbb3b4-d773-4376-8f7c-da8b0dc71896",
   "metadata": {},
   "outputs": [
    {
     "data": {
      "text/plain": [
       "array([[ 1.43579256, -0.94493902, 14.03402401, 26.76115699,  1.29554188],\n",
       "       [ 1.30723219, -0.91188564,  9.07321595, 13.12686436,  2.86817777],\n",
       "       [ 1.32846234, -0.88985006,  8.71887252, 12.65348144,  2.88095186],\n",
       "       ...,\n",
       "       [-0.14939227, -0.73560098, -0.7066628 , -0.77233461, -2.68988313],\n",
       "       [-1.20618215,  1.60567965, -0.7066628 , -0.77983958, -2.55462608],\n",
       "       [-0.47963911,  0.60306065, -0.7066628 , -0.78667955, -2.39231762]])"
      ]
     },
     "execution_count": 49,
     "metadata": {},
     "output_type": "execute_result"
    }
   ],
   "source": [
    "# 属性L: 客户入会时间 LOAD_TIME - FFP_DATA\n",
    "L = pd.to_datetime(airline_selection['LOAD_TIME']) - pd.to_datetime(airline_selection['FFP_DATE'])\n",
    "L = L.astype('str').str.split().str[0].astype('int') / 30\n",
    "airline_feature = pd.concat([L, airline_selection.iloc[:, 2:]], axis=1)\n",
    "airline_feature.rename(columns={0: 'L'}, inplace=True)\n",
    "data = StandardScaler().fit_transform(airline_feature)\n",
    "np.savez('airline_scale.npz', data)\n",
    "data"
   ]
  },
  {
   "cell_type": "code",
   "execution_count": null,
   "id": "7110eb02-93ad-48c3-9f6a-21d1ca5ea07c",
   "metadata": {},
   "outputs": [],
   "source": []
  }
 ],
 "metadata": {
  "kernelspec": {
   "display_name": "MathVenv",
   "language": "python",
   "name": "venv"
  },
  "language_info": {
   "codemirror_mode": {
    "name": "ipython",
    "version": 3
   },
   "file_extension": ".py",
   "mimetype": "text/x-python",
   "name": "python",
   "nbconvert_exporter": "python",
   "pygments_lexer": "ipython3",
   "version": "3.9.6"
  }
 },
 "nbformat": 4,
 "nbformat_minor": 5
}
