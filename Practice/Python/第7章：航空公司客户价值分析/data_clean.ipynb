{
 "cells": [
  {
   "cell_type": "code",
   "execution_count": 3,
   "id": "cec85ce3-6864-4a6d-a812-5b2ffbca039b",
   "metadata": {},
   "outputs": [],
   "source": [
    "import pandas as pd\n",
    "import numpy as np"
   ]
  },
  {
   "cell_type": "code",
   "execution_count": 10,
   "id": "04e052d0-b5a8-4f44-82a1-fabaa447ad9d",
   "metadata": {},
   "outputs": [
    {
     "name": "stdout",
     "output_type": "stream",
     "text": [
      "原始数据的形状为: (62988, 44)\n",
      "去除票价为空的数据形状: (62299, 44)\n"
     ]
    }
   ],
   "source": [
    "airline_data = pd.read_csv('./air_data.csv')\n",
    "print('原始数据的形状为:', airline_data.shape)\n",
    "# 去除票价为空的记录\n",
    "airline_notnull = airline_data.loc[airline_data['SUM_YR_1'].notnull() & airline_data['SUM_YR_2'].notnull(), :]\n",
    "print('去除票价为空的数据形状:', airline_notnull.shape)"
   ]
  },
  {
   "cell_type": "code",
   "execution_count": 15,
   "id": "79a99707-f612-4016-83dc-45e5a9203d5d",
   "metadata": {},
   "outputs": [
    {
     "name": "stdout",
     "output_type": "stream",
     "text": [
      "清理后的数据形状为:  (62043, 44)\n"
     ]
    }
   ],
   "source": [
    "index1 = airline_notnull['SUM_YR_1'] != 0\n",
    "index2 = airline_notnull['SUM_YR_2'] != 0\n",
    "index3 = (airline_notnull['SEG_KM_SUM'] > 0) & (airline_notnull['avg_discount'] != 0)\n",
    "index4 = airline_notnull['AGE'] > 100\n",
    "airline = airline_notnull[(index1 | index2) & index3 & ~index4]\n",
    "print('清理后的数据形状为: ', airline.shape)"
   ]
  },
  {
   "cell_type": "code",
   "execution_count": 17,
   "id": "9a1f0d6b-405a-4123-9316-f292fb36bf46",
   "metadata": {},
   "outputs": [],
   "source": [
    "airline.to_csv('data_cleaned.csv')"
   ]
  },
  {
   "cell_type": "code",
   "execution_count": null,
   "id": "df662dac-9d6b-41f2-8c1a-198e4277c3bb",
   "metadata": {},
   "outputs": [],
   "source": []
  }
 ],
 "metadata": {
  "kernelspec": {
   "display_name": "MathVenv",
   "language": "python",
   "name": "venv"
  },
  "language_info": {
   "codemirror_mode": {
    "name": "ipython",
    "version": 3
   },
   "file_extension": ".py",
   "mimetype": "text/x-python",
   "name": "python",
   "nbconvert_exporter": "python",
   "pygments_lexer": "ipython3",
   "version": "3.9.6"
  }
 },
 "nbformat": 4,
 "nbformat_minor": 5
}
