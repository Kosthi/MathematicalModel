{
 "cells": [
  {
   "cell_type": "code",
   "execution_count": 3,
   "id": "04c7f8af-cbfd-432a-942c-f735794a8a7c",
   "metadata": {},
   "outputs": [],
   "source": [
    "import pandas as pd"
   ]
  },
  {
   "cell_type": "code",
   "execution_count": 4,
   "id": "cbe9abf8-b3c4-484e-ad0e-378ea94d7d57",
   "metadata": {},
   "outputs": [],
   "source": [
    "data_CO2 = pd.read_csv('./指标/产出：气体排放量/cleaned_CO2排放量.csv')\n",
    "data_CH4 = pd.read_csv('./指标/产出：气体排放量/cleaned_CH4排放量.csv')\n",
    "data_N2O = pd.read_csv('./指标/产出：气体排放量/cleaned_N2O排放量.csv')\n",
    "data_Fs = pd.read_csv('./指标/产出：气体排放量/cleaned_其他温室气体排放量.csv')\n",
    "\n",
    "labels = data_CO2.keys()[1:]\n",
    "data = data_CO2.copy()\n",
    "for label in labels:\n",
    "    data[label] = data_CO2[label] + data_CH4[label] + data_N2O[label] + data_Fs[label]\n",
    "data.to_csv('./指标/产出：气体排放量/总温室气体排放量.csv', index=False)"
   ]
  },
  {
   "cell_type": "code",
   "execution_count": null,
   "id": "610d9495-0c10-4101-94a6-03a498e66d28",
   "metadata": {},
   "outputs": [],
   "source": []
  }
 ],
 "metadata": {
  "kernelspec": {
   "display_name": "MathVenv",
   "language": "python",
   "name": "venv"
  },
  "language_info": {
   "codemirror_mode": {
    "name": "ipython",
    "version": 3
   },
   "file_extension": ".py",
   "mimetype": "text/x-python",
   "name": "python",
   "nbconvert_exporter": "python",
   "pygments_lexer": "ipython3",
   "version": "3.9.6"
  }
 },
 "nbformat": 4,
 "nbformat_minor": 5
}
