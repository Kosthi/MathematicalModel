{
 "cells": [
  {
   "cell_type": "code",
   "execution_count": 1,
   "id": "a8863fe2-8ffd-4d30-b501-e50fab42c1a0",
   "metadata": {},
   "outputs": [],
   "source": [
    "import pandas as pd\n",
    "import numpy as np"
   ]
  },
  {
   "cell_type": "code",
   "execution_count": 2,
   "id": "4843259c-6baa-484a-ae67-6fe7a14c48a6",
   "metadata": {
    "tags": []
   },
   "outputs": [],
   "source": [
    "data_gdp = pd.read_csv('./data_gdp.csv').iloc[:-1, :]\n",
    "data_ggdp = pd.read_csv('./data_ggdp.csv').iloc[:-1, :]"
   ]
  },
  {
   "cell_type": "code",
   "execution_count": 3,
   "id": "4e370b0c-d905-4e50-b4fa-231ed4cd1729",
   "metadata": {},
   "outputs": [],
   "source": [
    "def read_year_rank(data):\n",
    "    rank = pd.DataFrame()\n",
    "    rank['Country Name'] = data_gdp['Country Name']\n",
    "    for year in range(2010, 2021):\n",
    "        rank_change = []\n",
    "        data_rank = data.sort_values(by=str(year), ascending=False)\n",
    "        for i in range(len(data.index)):\n",
    "            for j in range(len(data_rank.index)):\n",
    "                if data.index[i] == data_rank.index[j]:\n",
    "                    rank_change.append(j + 1)\n",
    "                    break\n",
    "        rank[str(year)] = rank_change\n",
    "    return rank\n",
    "        \n",
    "gdp_ranks = read_year_rank(data_gdp)\n",
    "ggdp_ranks = read_year_rank(data_ggdp)"
   ]
  },
  {
   "cell_type": "code",
   "execution_count": 4,
   "id": "37f2fd28-75c0-41e7-99df-8afa72044a76",
   "metadata": {},
   "outputs": [],
   "source": [
    "gdp_ranks.to_csv('gdp_ranks.csv', index=False)\n",
    "ggdp_ranks.to_csv('ggdp_ranks.csv', index=False)"
   ]
  },
  {
   "cell_type": "code",
   "execution_count": null,
   "id": "6b89dc2a-bb3f-4b6c-b84a-ebbded412591",
   "metadata": {},
   "outputs": [],
   "source": []
  }
 ],
 "metadata": {
  "kernelspec": {
   "display_name": "MathVenv",
   "language": "python",
   "name": "venv"
  },
  "language_info": {
   "codemirror_mode": {
    "name": "ipython",
    "version": 3
   },
   "file_extension": ".py",
   "mimetype": "text/x-python",
   "name": "python",
   "nbconvert_exporter": "python",
   "pygments_lexer": "ipython3",
   "version": "3.9.6"
  }
 },
 "nbformat": 4,
 "nbformat_minor": 5
}
