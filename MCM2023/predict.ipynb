{
 "cells": [
  {
   "cell_type": "code",
   "execution_count": 1,
   "id": "0d2c67f4-512f-4e20-aa71-276a57cd0fb3",
   "metadata": {},
   "outputs": [],
   "source": [
    "import numpy as np\n",
    "import pandas as pd\n",
    "import matplotlib.pyplot as plt\n",
    "from scipy.interpolate import interp1d"
   ]
  },
  {
   "cell_type": "code",
   "execution_count": 2,
   "id": "c1b9f92c-e9c3-470a-87bd-3846f07c4302",
   "metadata": {},
   "outputs": [],
   "source": [
    "data_air = pd.read_csv('./指标/产出：气体排放量/总温室气体排放量.csv')\n",
    "data_energy = pd.read_csv('./指标/产出：自然资源损耗/cleaned_能源损耗.csv')\n",
    "total_air = data_air.iloc[:, -1].sum()\n",
    "total_energy = data_energy.iloc[:, -1].sum()"
   ]
  },
  {
   "cell_type": "code",
   "execution_count": 3,
   "id": "97b2ffe0-9e73-4d92-86c9-35bdbb15da5a",
   "metadata": {},
   "outputs": [],
   "source": [
    "k = 1.5e-9\n",
    "normal = total_air * 0.3\n",
    "state = 'Good'\n",
    "pred_air = pd.DataFrame()\n",
    "pred_air.index = [k for k in range(2020, 2071)]\n",
    "for j in range(1, 21):\n",
    "    val = [total_air]\n",
    "    for i in range(50):\n",
    "        if state == 'Good':\n",
    "            x = np.random.normal(k * (val[i - 1] - normal) - 0.01, 0.01)\n",
    "            y = np.random.normal(k * (val[i - 1] - normal) - 0.01, 0.01)\n",
    "        elif state == 'Counterproductive':\n",
    "            x = np.random.normal(k * (val[i - 1] - normal) + 0.01, 0.01)\n",
    "            y = np.random.normal(k * (val[i - 1] - normal) + 0.01, 0.01)\n",
    "        else:\n",
    "            x = np.random.normal(k * (val[i - 1] - normal), 0.01)\n",
    "            y = np.random.normal(k * (val[i - 1] - normal), 0.01)\n",
    "        if x + y > 0.05:\n",
    "            state = 'Good'\n",
    "        elif x + y < -0.05:\n",
    "            state = 'Counterproductive'\n",
    "        else:\n",
    "            state = 'Poor'\n",
    "        val.append(val[i] * (1 - (x + y)))\n",
    "    pred_air.loc[[k for k in range(2020, 2071)], j] = val"
   ]
  },
  {
   "cell_type": "code",
   "execution_count": 4,
   "id": "add619f5-f8c7-4c71-997c-61a7ed3cda13",
   "metadata": {},
   "outputs": [],
   "source": [
    "pred_air.to_csv('pred_air.csv')"
   ]
  },
  {
   "cell_type": "code",
   "execution_count": 5,
   "id": "59133376-e8f2-41f0-832b-a66940594a95",
   "metadata": {},
   "outputs": [],
   "source": [
    "k = 1.5e-13\n",
    "normal = total_energy * 0.3\n",
    "state = 'Good'\n",
    "pred_energy = pd.DataFrame()\n",
    "pred_energy.index = [k for k in range(2020, 2071)]\n",
    "for j in range(1, 21):\n",
    "    val = [total_energy]\n",
    "    for i in range(50):\n",
    "        if state == 'Good':\n",
    "            x = np.random.normal(k * (val[i - 1] - normal) - 0.01, 0.01)\n",
    "            y = np.random.normal(k * (val[i - 1] - normal) - 0.01, 0.01)\n",
    "        elif state == 'Counterproductive':\n",
    "            x = np.random.normal(k * (val[i - 1] - normal) + 0.01, 0.01)\n",
    "            y = np.random.normal(k * (val[i - 1] - normal) + 0.01, 0.01)\n",
    "        else:\n",
    "            x = np.random.normal(k * (val[i - 1] - normal), 0.01)\n",
    "            y = np.random.normal(k * (val[i - 1] - normal), 0.01)\n",
    "        if x + y > 0.05:\n",
    "            state = 'Good'\n",
    "        elif x + y < -0.05:\n",
    "            state = 'Counterproductive'\n",
    "        else:\n",
    "            state = 'Poor'\n",
    "        val.append(val[i] * (1 - (x + y)))\n",
    "    pred_energy.loc[[k for k in range(2020, 2071)], j] = val"
   ]
  },
  {
   "cell_type": "code",
   "execution_count": 6,
   "id": "11842db7-c34a-4e29-b25b-289b4cfcbf4c",
   "metadata": {},
   "outputs": [],
   "source": [
    "pred_energy.to_csv('pred_energy.csv')"
   ]
  },
  {
   "cell_type": "code",
   "execution_count": null,
   "id": "05faf5df-0977-404f-9038-98f5377e9260",
   "metadata": {},
   "outputs": [],
   "source": []
  }
 ],
 "metadata": {
  "kernelspec": {
   "display_name": "MathVenv",
   "language": "python",
   "name": "venv"
  },
  "language_info": {
   "codemirror_mode": {
    "name": "ipython",
    "version": 3
   },
   "file_extension": ".py",
   "mimetype": "text/x-python",
   "name": "python",
   "nbconvert_exporter": "python",
   "pygments_lexer": "ipython3",
   "version": "3.9.6"
  }
 },
 "nbformat": 4,
 "nbformat_minor": 5
}
