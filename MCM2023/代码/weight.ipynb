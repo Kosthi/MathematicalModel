{
 "cells": [
  {
   "cell_type": "code",
   "execution_count": 9,
   "id": "0eeac96b-351a-4416-bb56-0e424292f46a",
   "metadata": {},
   "outputs": [],
   "source": [
    "import pandas as pd\n",
    "import numpy as np\n",
    "from AHP import AHP\n",
    "import statsmodels.api as sm\n",
    "import matplotlib.pyplot as pl"
   ]
  },
  {
   "cell_type": "code",
   "execution_count": 2,
   "id": "d3fff55a-1a21-41ed-8ead-b47b3bcb3a63",
   "metadata": {},
   "outputs": [
    {
     "name": "stdout",
     "output_type": "stream",
     "text": [
      "算术平均法计算得到的权重向量为：\n",
      " [0.03776485 0.08479054 0.17292596 0.22776022 0.47675843]\n",
      "几何平均法计算得到的权重向量为：\n",
      " [0.51980141 0.2373293  0.11590198 0.08627704 0.04069027]\n",
      "特征值法计算得到的权重向量为：\n",
      " [0.03735578 0.08161945 0.17091483 0.22095551 0.48915445]\n",
      "判断矩阵的CI值为：(0.0430163682969531+0j)\n",
      "判断矩阵的CR值为：(0.038407471693708124+0j)\n",
      "判断矩阵的CR值为(0.038407471693708124+0j),通过一致性检验\n"
     ]
    },
    {
     "data": {
      "text/plain": [
       "array([0.48915445, 0.22095551, 0.17091483, 0.08161945, 0.03735578])"
      ]
     },
     "execution_count": 2,
     "metadata": {},
     "output_type": "execute_result"
    }
   ],
   "source": [
    "# GDP\n",
    "# 自然资源占有\n",
    "# 自然资源损耗\n",
    "# 温室气体排放\n",
    "# 生物资源\n",
    "\n",
    "# 给出判断矩阵\n",
    "b = np.array([[1, 1 / 3, 1 / 4, 1/7, 1/9],\n",
    "              [3, 1, 1 / 3, 1/3, 1/5],\n",
    "              [4, 3, 1, 1, 1/5],\n",
    "              [7, 3, 1, 1, 1/2],\n",
    "              [9, 5, 5, 2, 1]])\n",
    "# 算术平均法求权重\n",
    "weight1 = AHP(b).cal_weight_by_arithmetic_method()\n",
    "# 几何平均法求权重\n",
    "weight2 = AHP(b).cal_weight__by_geometric_method()\n",
    "# 特征值法求权重\n",
    "weight = AHP(b).cal_weight__by_eigenvalue_method()[::-1]\n",
    "AHP(b).test_consist()\n",
    "weight"
   ]
  },
  {
   "cell_type": "code",
   "execution_count": 3,
   "id": "e4bc90c0-833a-4465-94bf-0f4a01228703",
   "metadata": {},
   "outputs": [
    {
     "name": "stdout",
     "output_type": "stream",
     "text": [
      "特征值法计算得到的权重向量为：\n",
      " [0.08936324 0.12614844 0.26112939 0.52335893]\n",
      "判断矩阵的CI值为：(0.04799644756473853+0j)\n",
      "判断矩阵的CR值为：(0.05392859276936914+0j)\n",
      "判断矩阵的CR值为(0.05392859276936914+0j),通过一致性检验\n"
     ]
    },
    {
     "data": {
      "text/plain": [
       "array([0.52335893, 0.26112939, 0.12614844, 0.08936324])"
      ]
     },
     "execution_count": 3,
     "metadata": {},
     "output_type": "execute_result"
    }
   ],
   "source": [
    "# 自然资源权重\n",
    "# 淡水总量 森林面积 陆地海洋面积 农业用地面积\n",
    "# 淡水总量 >= 农业用地 >= 森林 >= 陆地海洋\n",
    "b = np.array([[1, 1 /2, 1 / 3, 1/4],\n",
    "              [2, 1, 1/3, 1/4],\n",
    "              [3, 3, 1, 1/3],\n",
    "              [4, 4, 3, 1]])\n",
    "# 特征值法求权重\n",
    "weight_natural = AHP(b).cal_weight__by_eigenvalue_method()[::-1]\n",
    "AHP(b).test_consist()\n",
    "weight_natural"
   ]
  },
  {
   "cell_type": "code",
   "execution_count": 4,
   "id": "65bd7fad-1af3-4a32-8b30-1776ee12b803",
   "metadata": {},
   "outputs": [
    {
     "name": "stdout",
     "output_type": "stream",
     "text": [
      "特征值法计算得到的权重向量为：\n",
      " [0.03522275 0.04611845 0.11220312 0.12632608 0.15352995 0.15352995\n",
      " 0.37306969]\n",
      "判断矩阵的CI值为：(0.05094217914466699+0j)\n",
      "判断矩阵的CR值为：(0.037457484665196314+0j)\n",
      "判断矩阵的CR值为(0.037457484665196314+0j),通过一致性检验\n"
     ]
    },
    {
     "data": {
      "text/plain": [
       "array([0.37306969, 0.15352995, 0.15352995, 0.12632608, 0.11220312,\n",
       "       0.04611845, 0.03522275])"
      ]
     },
     "execution_count": 4,
     "metadata": {},
     "output_type": "execute_result"
    }
   ],
   "source": [
    "# 损耗权重\n",
    "# 人口密度 农业、林业和渔业增价 固定资本损耗 能源损耗 矿场损耗 森林资源损耗 可再生能源发电\n",
    "# 固定资本损耗 > 农业、林业和渔业增价 > 可再生能源 > 能源 >= 矿场 >= 森林 > 人口密度\n",
    "# 特征值法求权重\n",
    "b = np.array([[1, 1 / 2, 1 / 3, 1/4, 1/4, 1/4, 1/7],\n",
    "              [2, 1, 1 / 3, 1/4, 1/4, 1/4, 1/5],\n",
    "              [3, 3,     1,   1/2,  1,   1,  1/4],\n",
    "              [4, 4,     2,   1,  1/2,    1/2, 1/4],\n",
    "              [4, 4,     1,   2,   1,    1,  1/3],\n",
    "              [4, 4,     1,   2,   1,    1,  1/3],\n",
    "              [7, 5,     4,   4,   3,    3,  1]])\n",
    "weight_used = AHP(b).cal_weight__by_eigenvalue_method()[::-1]\n",
    "AHP(b).test_consist()\n",
    "weight_used"
   ]
  },
  {
   "cell_type": "code",
   "execution_count": 5,
   "id": "868895dd-7ff5-4c71-83c4-0f2527245507",
   "metadata": {},
   "outputs": [
    {
     "name": "stdout",
     "output_type": "stream",
     "text": [
      "特征值法计算得到的权重向量为：\n",
      " [0.25 0.75]\n",
      "判断矩阵的CI值为：0.0\n",
      "判断矩阵的CR值为：nan\n",
      "仅包含两个子因素，不存在一致性问题\n"
     ]
    },
    {
     "name": "stderr",
     "output_type": "stream",
     "text": [
      "/Users/koschei/Project/MathModel/MCM2023/AHP.py:25: RuntimeWarning: invalid value encountered in scalar divide\n",
      "  self.CR_val = self.CI_val / (self.RI_list[self.n - 1])\n"
     ]
    },
    {
     "data": {
      "text/plain": [
       "array([0.75, 0.25])"
      ]
     },
     "execution_count": 5,
     "metadata": {},
     "output_type": "execute_result"
    }
   ],
   "source": [
    "# 温室气体排放权重\n",
    "# CO2 CH4 N2O Fs PM2.5\n",
    "# air PM2.5\n",
    "b = np.array([[1, 1/3],\n",
    "              [3,1]])\n",
    "# 特征值法求权重\n",
    "weight_air = AHP(b).cal_weight__by_eigenvalue_method()[::-1]\n",
    "AHP(b).test_consist()\n",
    "weight_air"
   ]
  },
  {
   "cell_type": "code",
   "execution_count": 6,
   "id": "499848cd-4a00-452c-a381-530fc1d1240c",
   "metadata": {},
   "outputs": [
    {
     "name": "stdout",
     "output_type": "stream",
     "text": [
      "特征值法计算得到的权重向量为：\n",
      " [0.33333333 0.66666667]\n",
      "判断矩阵的CI值为：0.0\n",
      "判断矩阵的CR值为：nan\n",
      "仅包含两个子因素，不存在一致性问题\n"
     ]
    },
    {
     "data": {
      "text/plain": [
       "array([0.66666667, 0.33333333])"
      ]
     },
     "execution_count": 6,
     "metadata": {},
     "output_type": "execute_result"
    }
   ],
   "source": [
    "# 生物多样性\n",
    "# 保护区数目 濒危动物数目\n",
    "b = np.array([[1, 1/2],\n",
    "              [2,1]])\n",
    "weight_animal = AHP(b).cal_weight__by_eigenvalue_method()[::-1]\n",
    "AHP(b).test_consist()\n",
    "weight_animal"
   ]
  },
  {
   "cell_type": "code",
   "execution_count": 7,
   "id": "1d5dc42a-316e-4adf-bc59-c66aeb4af2d4",
   "metadata": {},
   "outputs": [
    {
     "name": "stdout",
     "output_type": "stream",
     "text": [
      "GDP: 48.92%\n",
      "-自然资源-\n",
      "淡水总量: 11.56%\n",
      "农业用地: 5.77%\n",
      "森林: 2.79%\n",
      "陆地海洋: 1.97%\n",
      "-损耗-\n",
      "固定资本损耗: 6.38%\n",
      "农业、林业和渔业增价: 2.62%\n",
      "可再生能源: 2.62%\n",
      "能源: 2.16%\n",
      "矿场: 1.92%\n",
      "森林: 0.79%\n",
      "人口密度: 0.60%\n",
      "-温室气体和PM2.5-\n",
      "温室气体: 6.12%\n",
      "PM2.5: 2.04%\n",
      "-生物多样性损耗-\n",
      "保护区数目: 2.49%\n",
      "濒危物种数目: 1.25%\n"
     ]
    }
   ],
   "source": [
    "# 淡水总量 >= 农业用地 >= 森林 >= 陆地海洋\n",
    "# 固定资本损耗 > 农业、林业和渔业增价 > 可再生能源 > 能源 >= 矿场 >= 森林 > 人口密度\n",
    "print('GDP: {:.2f}%'.format(weight[0] * 100))\n",
    "print('-自然资源-')\n",
    "print('淡水总量: {:.2f}%'.format(weight[1] * weight_natural[0] * 100))\n",
    "print('农业用地: {:.2f}%'.format(weight[1] * weight_natural[1] * 100))\n",
    "print('森林: {:.2f}%'.format(weight[1] * weight_natural[2] * 100))\n",
    "print('陆地海洋: {:.2f}%'.format(weight[1] * weight_natural[3] * 100))\n",
    "print('-损耗-')\n",
    "print('固定资本损耗: {:.2f}%'.format(weight[2] * weight_used[0] * 100))\n",
    "print('农业、林业和渔业增价: {:.2f}%'.format(weight[2] * weight_used[1] * 100))\n",
    "print('可再生能源: {:.2f}%'.format(weight[2] * weight_used[2] * 100))\n",
    "print('能源: {:.2f}%'.format(weight[2] * weight_used[3] * 100))\n",
    "print('矿场: {:.2f}%'.format(weight[2] * weight_used[4] * 100))\n",
    "print('森林: {:.2f}%'.format(weight[2] * weight_used[5] * 100))\n",
    "print('人口密度: {:.2f}%'.format(weight[2] * weight_used[6] * 100))\n",
    "print('-温室气体和PM2.5-')\n",
    "print('温室气体: {:.2f}%'.format(weight[3] * weight_air[0] * 100))\n",
    "print('PM2.5: {:.2f}%'.format(weight[3] * weight_air[1] * 100))\n",
    "print('-生物多样性损耗-')\n",
    "print('保护区数目: {:.2f}%'.format(weight[4] * weight_animal[0] * 100))\n",
    "print('濒危物种数目: {:.2f}%'.format(weight[4] * weight_animal[1] * 100))"
   ]
  },
  {
   "cell_type": "code",
   "execution_count": 47,
   "id": "2143f341-b934-496e-95bf-cfb46f8eb329",
   "metadata": {},
   "outputs": [
    {
     "data": {
      "image/png": "[encoded data removed]",
      "text/plain": [
       "<Figure size 640x480 with 1 Axes>"
      ]
     },
     "metadata": {},
     "output_type": "display_data"
    }
   ],
   "source": [
    "# 创建100个服从正太分布的数据集\n",
    "data = pd.read_excel('./指标/GDP横截面.xlsx')\n",
    "# 创建 Q-Q 图，并增加 45度线\n",
    "fig = sm.qqplot(data[data.keys()[2]].values, line='45')\n",
    "plt.show()"
   ]
  },
  {
   "cell_type": "code",
   "execution_count": 32,
   "id": "d67a8d59-d8d0-49b0-9cf4-95441d423ab7",
   "metadata": {},
   "outputs": [
    {
     "data": {
      "text/plain": [
       "array([4.23627422e+11, 1.14861006e+12, 3.92275107e+11, 5.72224908e+10,\n",
       "       4.81420883e+11, 2.20887165e+12, 1.61734337e+12, 2.17105420e+11,\n",
       "       6.08716387e+12, 2.86563100e+11, 2.09069941e+11, 3.21995279e+11,\n",
       "       2.18983666e+11, 1.95234773e+10, 2.49424311e+11, 2.64518788e+12,\n",
       "       3.39966782e+12, 2.97124962e+11, 1.67561534e+12, 7.55094160e+11,\n",
       "       2.21913561e+11, 2.38364092e+11, 2.13609996e+12, 5.75907177e+12,\n",
       "       1.48047348e+11, 1.14406697e+12, 3.84439070e+10, 2.55016609e+11,\n",
       "       1.05780130e+12, 7.18948182e+09, 8.47380859e+11, 1.46517541e+11,\n",
       "       4.28757038e+11, 1.77165635e+11, 2.08368727e+11, 4.75696614e+11,\n",
       "       2.38113003e+11, 1.52491747e+12, 5.28207333e+11, 2.39809388e+11,\n",
       "       4.17365077e+11, 1.42210820e+12, 4.95812559e+11, 5.98851029e+11,\n",
       "       3.41104820e+11, 7.76992600e+11, 1.41209864e+11, 2.89787453e+11,\n",
       "       2.49139749e+12, 1.50489644e+13])"
      ]
     },
     "execution_count": 32,
     "metadata": {},
     "output_type": "execute_result"
    }
   ],
   "source": [
    "data[data.keys()[1]].values"
   ]
  },
  {
   "cell_type": "code",
   "execution_count": 42,
   "id": "171e9dd9-6ee0-4418-927f-e26a99166464",
   "metadata": {},
   "outputs": [
    {
     "name": "stdout",
     "output_type": "stream",
     "text": [
      "[-33.60313029  13.63880468  84.47006855 -20.0020242   -9.92335356\n",
      "   1.4615838   26.83705922  38.096386    70.76611281  36.97792227\n",
      "  12.26966246  70.4033537   45.98088497 -50.80989872 126.16020258\n",
      "  92.87654108   7.5985742   31.62804448  73.271785     7.42316512\n",
      "  47.13547878  63.60145284 -29.65233994 -11.50260156  55.5419695\n",
      "  35.27583699  55.64704865   9.16700736   2.28377072 -72.94013693\n",
      " -35.42401877  17.07090816  51.28051766  38.37184813   9.35735314\n",
      "   3.04205107  24.55590384  18.44129197  76.80000266  21.4433939\n",
      " -50.17482234 -40.99255794  81.82541083 -36.5310603   48.63788793\n",
      "   3.19159965   7.53063507   9.09815756  68.74093822   6.51495954\n",
      "  13.53395155 -52.35535389  24.09438252  38.36587031  25.52240555\n",
      "  76.50743549  17.42753961  28.15500807  87.53417645 -53.20062433\n",
      "  -5.0563153   77.75098509  56.18968253  44.84872435  51.63663254\n",
      "  29.3909132   86.79028681  31.62140347  25.55415266  21.99418166\n",
      "  23.48601404 -35.90876036  48.9096144    9.26065171  95.16426431\n",
      "  11.67137929  33.5204045   25.8504962  -12.52450954  58.65402045\n",
      "  98.82280018  14.34980233   1.77893343  -0.62126417 -68.26392331\n",
      "   7.17622168  26.0439171   61.40934871  57.24210061  -3.32595963\n",
      "   2.81978823  64.45183345   7.36758853  -7.44129975  76.27081178\n",
      "  60.65376935  15.82683884 -11.1262077  -73.52273405  40.94695865]\n",
      "23.581079681577908 40.675259410990414\n"
     ]
    },
    {
     "data": {
      "image/png": "[encoded data removed]",
      "text/plain": [
       "<Figure size 640x480 with 1 Axes>"
      ]
     },
     "metadata": {},
     "output_type": "display_data"
    }
   ],
   "source": [
    "# 根据均值、标准差,求指定范围的正态分布概率值\n",
    "def normfun(x, mu, sigma):\n",
    "    pdf = np.exp(-((x - mu)**2)/(2*sigma**2)) / (sigma * np.sqrt(2*np.pi))\n",
    "    return pdf\n",
    "result = np.random.normal(15, 44, 100) # 均值为0.5,方差为1\n",
    "print(result)\n",
    "x = np.arange(min(result), max(result), 0.1)\n",
    "# 设定 y 轴，载入刚才的正态分布函数\n",
    "print(result.mean(), result.std())\n",
    "y = normfun(x, result.mean(), result.std())\n",
    "plt.plot(x, y) # 这里画出理论的正态分布概率曲线\n",
    "\n",
    "# 这里画出实际的参数概率与取值关系\n",
    "plt.hist(result, bins=10, rwidth=0.8, density=True) # bins个柱状图,宽度是rwidth(0~1),=1没有缝隙\n",
    "plt.title('distribution')\n",
    "plt.xlabel('temperature')\n",
    "plt.ylabel('probability')\n",
    "# 输出\n",
    "plt.show() # 最后图片的概率和不为1是因为正态分布是从负无穷到正无穷,这里指截取了数据最小值到最大值的分布"
   ]
  },
  {
   "cell_type": "code",
   "execution_count": null,
   "id": "b2468b80-7d5b-4a38-a36a-de7adf7afa09",
   "metadata": {},
   "outputs": [],
   "source": []
  }
 ],
 "metadata": {
  "kernelspec": {
   "display_name": "MathVenv",
   "language": "python",
   "name": "venv"
  },
  "language_info": {
   "codemirror_mode": {
    "name": "ipython",
    "version": 3
   },
   "file_extension": ".py",
   "mimetype": "text/x-python",
   "name": "python",
   "nbconvert_exporter": "python",
   "pygments_lexer": "ipython3",
   "version": "3.9.6"
  }
 },
 "nbformat": 4,
 "nbformat_minor": 5
}
