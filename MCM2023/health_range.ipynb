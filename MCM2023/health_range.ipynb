{
 "cells": [
  {
   "cell_type": "code",
   "execution_count": 1,
   "id": "bb77e621-5561-47e5-bef9-a789d4d7b7b7",
   "metadata": {},
   "outputs": [],
   "source": [
    "import pandas as pd\n",
    "import numpy as np"
   ]
  },
  {
   "cell_type": "code",
   "execution_count": 2,
   "id": "498bf903-de41-4c83-947c-4125d4a18950",
   "metadata": {},
   "outputs": [],
   "source": [
    "data_1 = pd.read_csv('./指标/投入：自然资源/cleaned_gdp.csv')\n",
    "data_2 = pd.read_csv('./指标/投入：自然资源/cleaned_可再生内陆淡水资源总量.csv')\n",
    "data_3 = pd.read_csv('./指标/投入：自然资源/cleaned_农业用地.csv')\n",
    "data_4 = pd.read_csv('./指标/投入：自然资源/cleaned_森林面积.csv')\n",
    "data_5 = pd.read_csv('./指标/投入：自然资源/cleaned_陆地及海洋保护区面积.csv')\n",
    "\n",
    "data_6 = pd.read_csv('./指标/产出：自然资源损耗/cleaned_固定资本损耗.csv')\n",
    "data_7 = pd.read_csv('./指标/产出：自然资源损耗/cleaned_农业、林业和渔业增价.csv')\n",
    "data_8 = pd.read_csv('./指标/产出：自然资源损耗/cleaned_可再生能源发电.csv')\n",
    "data_9 = pd.read_csv('./指标/产出：自然资源损耗/cleaned_能源损耗.csv')\n",
    "data_10 = pd.read_csv('./指标/产出：自然资源损耗/cleaned_矿产损耗.csv')\n",
    "data_11 = pd.read_csv('./指标/产出：自然资源损耗/cleaned_森林资源损耗.csv')\n",
    "data_12 = pd.read_csv('./指标/产出：自然资源损耗/cleaned_人口密度.csv')\n",
    "\n",
    "data_13 = pd.read_csv('./指标/产出：气体排放量/总温室气体排放量.csv')\n",
    "data_14 = pd.read_csv('./指标/产出：气体排放量/cleaned_PM2.5.csv')\n",
    "\n",
    "data_15 = pd.read_csv('./指标/生物资源/cleaned_保护区覆盖率.csv')\n",
    "data_16 = pd.read_csv('./指标/生物资源/cleaned_红色名录指数.csv')"
   ]
  },
  {
   "cell_type": "code",
   "execution_count": 3,
   "id": "6860f78e-7ac7-4809-aaf6-a01636be62ce",
   "metadata": {},
   "outputs": [
    {
     "name": "stdout",
     "output_type": "stream",
     "text": [
      "GDP: 237966270423.06595\n",
      "淡水: 11.3352\n",
      "农业用地: 20.45944724147301\n",
      "森林面积: 12.591642518562814\n",
      "陆地及海洋保护区面积: 5.055053141224598\n",
      "固定资本损耗: 239712702774.50714\n",
      "农业、林业和渔业增价: 4605353088.269081\n",
      "可再生能源发电: 1.217574557129222\n",
      "能源损耗: 15970869856.394304\n",
      "矿产损耗: 3063309344.26355\n",
      "森林资源损耗: 9259307.283589208\n",
      "人口密度: 269.186326191989\n",
      "温室气体排放: 644558.9794783967\n",
      "PM2.5: 27.957300192447416\n",
      "保护区覆盖率: 16.961090909090913\n",
      "红色名录指数: 0.7814545454545455\n"
     ]
    }
   ],
   "source": [
    "labels = data_1.keys()[1:]\n",
    "print('GDP:', data_1[labels].quantile(0.2).mean())\n",
    "\n",
    "print('淡水:', data_2[labels].quantile(0.2).mean())\n",
    "print('农业用地:', data_3[labels].quantile(0.2).mean())\n",
    "print('森林面积:', data_4[labels].quantile(0.2).mean())\n",
    "print('陆地及海洋保护区面积:', data_5[labels].quantile(0.2).mean())\n",
    "\n",
    "print('固定资本损耗:', data_6[labels].quantile(0.8).mean())\n",
    "print('农业、林业和渔业增价:', data_7[labels].quantile(0.2).mean())\n",
    "print('可再生能源发电:', data_8[labels].quantile(0.2).mean())\n",
    "print('能源损耗:', data_9[labels].quantile(0.8).mean())\n",
    "print('矿产损耗:', data_10[labels].quantile(0.8).mean())\n",
    "print('森林资源损耗:', data_11[labels].quantile(0.8).mean())\n",
    "print('人口密度:', data_12[labels].quantile(0.8).mean())\n",
    "\n",
    "print('温室气体排放:', data_13[labels].quantile(0.8).mean())\n",
    "print('PM2.5:', data_14[labels].quantile(0.8).mean())\n",
    "\n",
    "print('保护区覆盖率:', data_15[labels].quantile(0.2).mean())\n",
    "print('红色名录指数:', data_16[labels].quantile(0.2).mean())"
   ]
  },
  {
   "cell_type": "code",
   "execution_count": 4,
   "id": "7a615282-6d14-4026-8e4b-f2fc2581ca4a",
   "metadata": {},
   "outputs": [],
   "source": [
    "indicator = pd.read_excel('./指标/指标体系.xlsx')\n",
    "weight = indicator['%']\n",
    "data_ggdp = pd.DataFrame()\n",
    "for i in range(len(data_1)):\n",
    "    weight_list = []\n",
    "    labels = data_1.keys()[1:]\n",
    "    country = data_1.iloc[i, 0]\n",
    "    weight_list.append(data_1.iloc[i, -1] > data_1[labels].quantile(0.2).mean())\n",
    "    weight_list.append(data_2.iloc[i, -1] > data_2[labels].quantile(0.2).mean())\n",
    "    weight_list.append(data_3.iloc[i, -1] > data_3[labels].quantile(0.2).mean())\n",
    "    weight_list.append(data_4.iloc[i, -1] > data_4[labels].quantile(0.2).mean())\n",
    "    weight_list.append(data_5.iloc[i, -1] > data_5[labels].quantile(0.2).mean())\n",
    "\n",
    "    weight_list.append(data_6.iloc[i, -1] < data_6[labels].quantile(0.8).mean())\n",
    "    weight_list.append(data_7.iloc[i, -1] > data_7[labels].quantile(0.2).mean())\n",
    "    weight_list.append(data_8.iloc[i, -1] > data_8[labels].quantile(0.2).mean())\n",
    "    weight_list.append(data_9.iloc[i, -1] < data_9[labels].quantile(0.8).mean())\n",
    "    weight_list.append(data_10.iloc[i, -1] < data_10[labels].quantile(0.8).mean())\n",
    "    weight_list.append(data_11.iloc[i, -1] < data_11[labels].quantile(0.8).mean())\n",
    "    weight_list.append(data_12.iloc[i, -1] < data_12[labels].quantile(0.8).mean())\n",
    "    \n",
    "    weight_list.append(data_13.iloc[i, -1] < data_13[labels].quantile(0.8).mean())\n",
    "    weight_list.append(data_14.iloc[i, -1] < data_14[labels].quantile(0.8).mean())\n",
    "    \n",
    "    weight_list.append(data_15.iloc[i, -1] > data_15[labels].quantile(0.2).mean())\n",
    "    weight_list.append(data_16.iloc[i, -1] > data_16[labels].quantile(0.2).mean())\n",
    "    weight_list = np.array(list(map(float, weight_list)))\n",
    "    labels = indicator['2nd']\n",
    "    data_ggdp.loc[country, labels] = weight_list "
   ]
  },
  {
   "cell_type": "code",
   "execution_count": 17,
   "id": "62377680-e05e-4fd8-8e3b-ad20bf5eb6ce",
   "metadata": {},
   "outputs": [],
   "source": [
    "data_ggdp['GGDP index'] = data_ggdp[labels].values @ weight / 100\n",
    "data_ggdp['GDP I'] = data_1['2020'].values\n",
    "data_ggdp['GGDP'] = data_ggdp['GGDP index'].values * data_ggdp['GDP I'].values"
   ]
  },
  {
   "cell_type": "code",
   "execution_count": 24,
   "id": "39920301-052a-4eb9-81db-ddf0f56b3337",
   "metadata": {},
   "outputs": [],
   "source": [
    "gdp_rank = data_ggdp.sort_values(by='GDP I', ascending=False)\n",
    "ggdp_rank = data_ggdp.sort_values(by='GGDP', ascending=False)"
   ]
  },
  {
   "cell_type": "code",
   "execution_count": 36,
   "id": "0975f0fe-0e41-4d85-84e5-22d0b430a212",
   "metadata": {},
   "outputs": [],
   "source": [
    "rank_change = []\n",
    "for i in range(len(gdp_rank.index)):\n",
    "    for j in range(len(ggdp_rank.index)):\n",
    "        if gdp_rank.index[i] == ggdp_rank.index[j]:\n",
    "            rank_change.append(abs(i - j))\n",
    "            break\n",
    "gdp_rank['Rank change'] = rank_change"
   ]
  },
  {
   "cell_type": "code",
   "execution_count": 39,
   "id": "1c17e718-8646-4b76-afdb-b9df1133cfc6",
   "metadata": {},
   "outputs": [
    {
     "data": {
      "text/plain": [
       "1.16"
      ]
     },
     "execution_count": 39,
     "metadata": {},
     "output_type": "execute_result"
    }
   ],
   "source": [
    "gdp_rank['Rank change'].sum() / 50"
   ]
  },
  {
   "cell_type": "code",
   "execution_count": null,
   "id": "5721ac22-67c4-4968-9523-c3e03ed36ec0",
   "metadata": {},
   "outputs": [],
   "source": []
  }
 ],
 "metadata": {
  "kernelspec": {
   "display_name": "MathVenv",
   "language": "python",
   "name": "venv"
  },
  "language_info": {
   "codemirror_mode": {
    "name": "ipython",
    "version": 3
   },
   "file_extension": ".py",
   "mimetype": "text/x-python",
   "name": "python",
   "nbconvert_exporter": "python",
   "pygments_lexer": "ipython3",
   "version": "3.9.6"
  }
 },
 "nbformat": 4,
 "nbformat_minor": 5
}
