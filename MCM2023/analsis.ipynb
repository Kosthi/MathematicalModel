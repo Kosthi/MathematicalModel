{
 "cells": [
  {
   "cell_type": "code",
   "execution_count": 10,
   "id": "2e0102da-ca5a-48e8-9e8d-d010ea99f5f6",
   "metadata": {},
   "outputs": [],
   "source": [
    "import pandas as pd\n",
    "import numpy as np\n",
    "import seaborn as sns\n",
    "import scipy.stats as sta"
   ]
  },
  {
   "cell_type": "code",
   "execution_count": 24,
   "id": "28c3d61a-d6e7-4ede-aae8-d9a92654a32d",
   "metadata": {},
   "outputs": [
    {
     "data": {
      "text/plain": [
       "(0.990909090909091, 3.762571807085399e-09)"
      ]
     },
     "execution_count": 24,
     "metadata": {},
     "output_type": "execute_result"
    }
   ],
   "source": [
    "data = pd.read_excel('./GDP_GGDP.xlsx')\n",
    "data[data.keys()[1:]].corr('spearman')\n",
    "# SPSS 斯皮尔曼检验\n",
    "statistic, pvalue = sta.spearmanr(data[data.keys()[1:]], axis = 0)\n",
    "statistic, pvalue"
   ]
  },
  {
   "cell_type": "code",
   "execution_count": null,
   "id": "820eec82-f1da-4b01-951d-ac0a5e336cf4",
   "metadata": {},
   "outputs": [],
   "source": []
  }
 ],
 "metadata": {
  "kernelspec": {
   "display_name": "MathVenv",
   "language": "python",
   "name": "venv"
  },
  "language_info": {
   "codemirror_mode": {
    "name": "ipython",
    "version": 3
   },
   "file_extension": ".py",
   "mimetype": "text/x-python",
   "name": "python",
   "nbconvert_exporter": "python",
   "pygments_lexer": "ipython3",
   "version": "3.9.6"
  }
 },
 "nbformat": 4,
 "nbformat_minor": 5
}
