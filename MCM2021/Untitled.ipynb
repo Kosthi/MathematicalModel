{
 "cells": [
  {
   "cell_type": "code",
   "execution_count": 32,
   "id": "b71670a9-d9a7-4a20-a60c-e655cdf4c2ca",
   "metadata": {},
   "outputs": [],
   "source": [
    "import pandas as pd\n",
    "import numpy as np"
   ]
  },
  {
   "cell_type": "code",
   "execution_count": 2,
   "id": "f5ed1888-0eac-4f12-a2a2-32f222fc9bbc",
   "metadata": {},
   "outputs": [],
   "source": [
    "df = pd.read_excel('./2023 QS World University Rankings V2.1 (For qs.com).xlsx')\n",
    "df.rename(columns={'Unnamed: 4': 'Country'}, inplace=True)"
   ]
  },
  {
   "cell_type": "code",
   "execution_count": 18,
   "id": "5c2469c6-5aea-43df-a8e2-fc0fbb9036b4",
   "metadata": {},
   "outputs": [],
   "source": [
    "tar = pd.DataFrame()\n",
    "length = len(df)\n",
    "countries = []\n",
    "ranks = []\n",
    "\n",
    "def isValid(rank):\n",
    "    if '+' in rank:\n",
    "        return False\n",
    "    elif '-' in rank:\n",
    "        return int(rank.split('-')[1]) <= 1000\n",
    "    elif '=' in rank:\n",
    "        return int(rank.split('=')[0]) <= 1000\n",
    "    return int(rank) <= 1000\n",
    "    \n",
    "def add(country):\n",
    "    if country in countries:\n",
    "        index = countries.index(country)\n",
    "        ranks[index] += 1;\n",
    "    else:\n",
    "        countries.append(country)\n",
    "        ranks.append(1)\n",
    "\n",
    "for i in range(3, length):\n",
    "    rank = str(df['2023 QS World University Rankings'][i])\n",
    "    country = df['Country'][i]\n",
    "    if isValid(rank):\n",
    "        add(country)"
   ]
  },
  {
   "cell_type": "code",
   "execution_count": 14,
   "id": "ee0f84c4-44d1-484c-b3e1-72e217901729",
   "metadata": {},
   "outputs": [],
   "source": [
    "df.rename(columns={'Unnamed: 4': 'Country'}, inplace=True)"
   ]
  },
  {
   "cell_type": "code",
   "execution_count": 25,
   "id": "9886abe6-acc3-4284-a84d-c20ab083af15",
   "metadata": {},
   "outputs": [
    {
     "data": {
      "text/plain": [
       "59"
      ]
     },
     "execution_count": 25,
     "metadata": {},
     "output_type": "execute_result"
    }
   ],
   "source": [
    "ranks[countries.index('China (Mainland)')]"
   ]
  },
  {
   "cell_type": "code",
   "execution_count": 35,
   "id": "f0611475-45b5-4ad0-833c-0262631b7cab",
   "metadata": {},
   "outputs": [
    {
     "data": {
      "text/plain": [
       "82"
      ]
     },
     "execution_count": 35,
     "metadata": {},
     "output_type": "execute_result"
    }
   ],
   "source": [
    "len(countries)"
   ]
  },
  {
   "cell_type": "code",
   "execution_count": 37,
   "id": "aa48e117-6344-4a2c-9132-90d9199875b2",
   "metadata": {},
   "outputs": [],
   "source": [
    "tar['Country'] = countries\n",
    "tar['Rank'] = ranks"
   ]
  },
  {
   "cell_type": "code",
   "execution_count": 38,
   "id": "f1e9974a-e1cd-4c15-adf6-6b046edd4b7d",
   "metadata": {},
   "outputs": [
    {
     "data": {
      "text/html": [
       "<div>\n",
       "<style scoped>\n",
       "    .dataframe tbody tr th:only-of-type {\n",
       "        vertical-align: middle;\n",
       "    }\n",
       "\n",
       "    .dataframe tbody tr th {\n",
       "        vertical-align: top;\n",
       "    }\n",
       "\n",
       "    .dataframe thead th {\n",
       "        text-align: right;\n",
       "    }\n",
       "</style>\n",
       "<table border=\"1\" class=\"dataframe\">\n",
       "  <thead>\n",
       "    <tr style=\"text-align: right;\">\n",
       "      <th></th>\n",
       "      <th>Country</th>\n",
       "      <th>Rank</th>\n",
       "    </tr>\n",
       "  </thead>\n",
       "  <tbody>\n",
       "    <tr>\n",
       "      <th>0</th>\n",
       "      <td>United States</td>\n",
       "      <td>146</td>\n",
       "    </tr>\n",
       "    <tr>\n",
       "      <th>1</th>\n",
       "      <td>United Kingdom</td>\n",
       "      <td>81</td>\n",
       "    </tr>\n",
       "    <tr>\n",
       "      <th>2</th>\n",
       "      <td>Switzerland</td>\n",
       "      <td>10</td>\n",
       "    </tr>\n",
       "    <tr>\n",
       "      <th>3</th>\n",
       "      <td>Singapore</td>\n",
       "      <td>3</td>\n",
       "    </tr>\n",
       "    <tr>\n",
       "      <th>4</th>\n",
       "      <td>China (Mainland)</td>\n",
       "      <td>59</td>\n",
       "    </tr>\n",
       "    <tr>\n",
       "      <th>...</th>\n",
       "      <td>...</td>\n",
       "      <td>...</td>\n",
       "    </tr>\n",
       "    <tr>\n",
       "      <th>77</th>\n",
       "      <td>Kyrgyzstan</td>\n",
       "      <td>1</td>\n",
       "    </tr>\n",
       "    <tr>\n",
       "      <th>78</th>\n",
       "      <td>Armenia</td>\n",
       "      <td>2</td>\n",
       "    </tr>\n",
       "    <tr>\n",
       "      <th>79</th>\n",
       "      <td>Iraq</td>\n",
       "      <td>1</td>\n",
       "    </tr>\n",
       "    <tr>\n",
       "      <th>80</th>\n",
       "      <td>Malta</td>\n",
       "      <td>1</td>\n",
       "    </tr>\n",
       "    <tr>\n",
       "      <th>81</th>\n",
       "      <td>Croatia</td>\n",
       "      <td>1</td>\n",
       "    </tr>\n",
       "  </tbody>\n",
       "</table>\n",
       "<p>82 rows × 2 columns</p>\n",
       "</div>"
      ],
      "text/plain": [
       "             Country  Rank\n",
       "0      United States   146\n",
       "1     United Kingdom    81\n",
       "2        Switzerland    10\n",
       "3          Singapore     3\n",
       "4   China (Mainland)    59\n",
       "..               ...   ...\n",
       "77        Kyrgyzstan     1\n",
       "78           Armenia     2\n",
       "79              Iraq     1\n",
       "80             Malta     1\n",
       "81           Croatia     1\n",
       "\n",
       "[82 rows x 2 columns]"
      ]
     },
     "execution_count": 38,
     "metadata": {},
     "output_type": "execute_result"
    }
   ],
   "source": [
    "tar"
   ]
  },
  {
   "cell_type": "code",
   "execution_count": null,
   "id": "21118d24-3cb5-4d01-83c6-3204d17d0c96",
   "metadata": {},
   "outputs": [],
   "source": []
  }
 ],
 "metadata": {
  "kernelspec": {
   "display_name": "MathVenv",
   "language": "python",
   "name": "venv"
  },
  "language_info": {
   "codemirror_mode": {
    "name": "ipython",
    "version": 3
   },
   "file_extension": ".py",
   "mimetype": "text/x-python",
   "name": "python",
   "nbconvert_exporter": "python",
   "pygments_lexer": "ipython3",
   "version": "3.9.6"
  }
 },
 "nbformat": 4,
 "nbformat_minor": 5
}
